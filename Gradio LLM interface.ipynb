{
 "cells": [
  {
   "cell_type": "markdown",
   "metadata": {},
   "source": [
    "# Simple \"Chat with database case\"\n",
    "\n",
    "### Chat with data from GraphQL API with help from LangChain in a Gradio interface "
   ]
  },
  {
   "cell_type": "code",
   "execution_count": null,
   "metadata": {},
   "outputs": [],
   "source": [
    "# Import \n",
    "import os\n",
    "from langchain import OpenAI\n",
    "from langchain.agents import load_tools, initialize_agent, AgentType\n",
    "from langchain.memory import ConversationBufferMemory\n",
    "\n",
    "import gradio as gr\n",
    "import io\n",
    "import sys\n"
   ]
  },
  {
   "cell_type": "code",
   "execution_count": null,
   "metadata": {},
   "outputs": [],
   "source": [
    "OPENAI_API_KEY_HERE = 'openai-apikey'"
   ]
  },
  {
   "cell_type": "code",
   "execution_count": null,
   "metadata": {},
   "outputs": [],
   "source": [
    "\n",
    "\n",
    "# Define the function to run the agent\n",
    "def run_agent(Question):\n",
    "    # Redirect stdout to capture the verbose logs for debugging\n",
    "    old_stdout = sys.stdout\n",
    "    new_stdout = io.StringIO()\n",
    "    sys.stdout = new_stdout\n",
    "    \n",
    "    # Set the OpenAI API key as an environment variable\n",
    "    os.environ['OPENAI_API_KEY'] = OPENAI_API_KEY_HERE\n",
    "    \n",
    "    # Initialize the OpenAI model with a specific temperature setting\n",
    "    llm = OpenAI(temperature=0)\n",
    "    \n",
    "    # Load GraphQL tool with a specific endpoint\n",
    "    tools = load_tools(\n",
    "        [\"graphql\"],\n",
    "        graphql_endpoint=\"https://rickandmortyapi.com/graphql/\",\n",
    "    )\n",
    "    \n",
    "    # Initialize the agent with the given tools and model\n",
    "    agent = initialize_agent(\n",
    "        tools, llm, agent=AgentType.ZERO_SHOT_REACT_DESCRIPTION, verbose=True\n",
    "    )\n",
    "    \n",
    "    # Define the GraphQL query to fetch character data from Rick and Morty API\n",
    "    query_morty = \"\"\"\n",
    "    query {\n",
    "        characters{\n",
    "            results {\n",
    "                name\n",
    "                status\n",
    "                species\n",
    "                type\n",
    "                gender\n",
    "            }\n",
    "        }\n",
    "    }\n",
    "    \"\"\"\n",
    "    \n",
    "    # Run the agent with the user's question and the GraphQL query\n",
    "    result = agent.run(Question + query_morty)\n",
    "    \n",
    "    # Capture the verbose logs \n",
    "    verbose_logs = new_stdout.getvalue()\n",
    "    \n",
    "    # Restore the original stdout stream\n",
    "    sys.stdout = old_stdout\n",
    "    \n",
    "    # Filter the verbose logs to only include specific lines \n",
    "    filtered_logs = \"\\n\".join([line for line in verbose_logs.split('\\n') if \"Thought:\" in line or \"Action Input:\" in line or \"Final Answer:\" in line])\n",
    "    \n",
    "    # Combine the result and the filtered verbose logs for the final output\n",
    "    combined_output = f\"Result:\\n{result}\\n\\n Verbose Logs:\\n{filtered_logs}\"\n",
    "\n",
    "    return combined_output\n",
    "\n",
    "# Create a Gradio interface for the agent function\n",
    "iface = gr.Interface(\n",
    "    fn=run_agent, \n",
    "    inputs=[\n",
    "        gr.inputs.Textbox(lines=6, placeholder=\"Ask the database...\")\n",
    "    ], \n",
    "    title=\"Chat with Rick and Morty data via GraphQL Database API\",\n",
    "    description=\"Find entities using the `ChatGPT` with verbose to understand what's going on under the hood.\",\n",
    "    allow_flagging=\"never\",\n",
    "    examples=[\"What are the columns and the count of rows in the database?\", \"Can you list the names in the name column in the database?\"],\n",
    "    outputs=\"text\"\n",
    ")\n",
    "\n",
    "# Launch the Gradio interface (set 'share' to True for a public URL)\n",
    "iface.launch(share=False)\n"
   ]
  }
 ],
 "metadata": {
  "kernelspec": {
   "display_name": "base",
   "language": "python",
   "name": "python3"
  },
  "language_info": {
   "codemirror_mode": {
    "name": "ipython",
    "version": 3
   },
   "file_extension": ".py",
   "mimetype": "text/x-python",
   "name": "python",
   "nbconvert_exporter": "python",
   "pygments_lexer": "ipython3",
   "version": "3.11.3"
  },
  "orig_nbformat": 4
 },
 "nbformat": 4,
 "nbformat_minor": 2
}
